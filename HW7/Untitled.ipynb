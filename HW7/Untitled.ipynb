{
 "cells": [
  {
   "cell_type": "code",
   "execution_count": 3,
   "id": "d1c238ec",
   "metadata": {},
   "outputs": [],
   "source": [
    "def add_original_feature(df, df_new):\n",
    "    df_new['open'] = df['Open']\n",
    "    df_new['open_1'] = df['Open'].shift(1)\n",
    "    df_new['close_1'] = df['Close'].shift(1)\n",
    "    df_new['high_1'] = df['High'].shift(1)\n",
    "    df_new['low_1'] = df['Low'].shift(1)\n",
    "    df_new['volume_1'] = df['Volume'].shift(1)\n"
   ]
  },
  {
   "cell_type": "code",
   "execution_count": 5,
   "id": "1dcb76bb",
   "metadata": {},
   "outputs": [],
   "source": [
    "def add_avg_price(df, df_new):\n",
    "    df_new['avg_price_5'] = df['Close'].rolling(5).mean().shift(1)\n",
    "    df_new['avg_price_30'] = df['Close'].rolling(21).mean().shift(1)\n",
    "    df_new['avg_price_365'] = df['Close'].rolling(252).mean().shift(1)\n",
    "    df_new['ratio_avg_price_5_30'] = df_new['avg_price_5'] / df_new['avg_price_30']\n",
    "    df_new['ratio_avg_price_5_365'] = df_new['avg_price_5'] / df_new['avg_price_365']\n",
    "    df_new['ratio_avg_price_30_365'] = df_new['avg_price_30'] / df_new['avg_price_365']\n"
   ]
  },
  {
   "cell_type": "code",
   "execution_count": 12,
   "id": "683d4a66",
   "metadata": {},
   "outputs": [],
   "source": [
    "def add_avg_volume(df, df_new):\n",
    "    df_new['avg_volume_5'] = df['Volume'].rolling(5).mean().shift(1)\n",
    "    df_new['avg_volume_30'] = df['Volume'].rolling(21).mean().shift(1)\n",
    "    df_new['avg_volume_365'] = df['Volume'].rolling(252).mean().shift(1)\n",
    "    df_new['ratio_avg_volume_5_30'] = df_new['avg_volume_5'] / df_new['avg_volume_30']\n",
    "    df_new['ratio_avg_volume_5_365'] = df_new['avg_volume_5'] / df_new['avg_volume_365']\n",
    "    df_new['ratio_avg_volume_30_365'] = df_new['avg_volume_30'] / df_new['avg_volume_365']"
   ]
  },
  {
   "cell_type": "code",
   "execution_count": 7,
   "id": "08ea1062",
   "metadata": {},
   "outputs": [],
   "source": [
    "def add_std_price(df, df_new):\n",
    "    df_new['std_price_5'] = df['Close'].rolling(5).std().shift(1)\n",
    "    df_new['std_price_30'] = df['Close'].rolling(21).std().shift(1)\n",
    "    df_new['std_price_365'] = df['Close'].rolling(252).std().shift(1)\n",
    "    df_new['ratio_std_price_5_30'] = df_new['std_price_5'] / df_new['std_price_30']\n",
    "    df_new['ratio_std_price_5_365'] = df_new['std_price_5'] / df_new['std_price_365']\n",
    "    df_new['ratio_std_price_30_365'] = df_new['std_price_30'] / df_new['std_price_365']\n"
   ]
  },
  {
   "cell_type": "code",
   "execution_count": 8,
   "id": "3ba1a681",
   "metadata": {},
   "outputs": [],
   "source": [
    "def add_std_volume(df, df_new):\n",
    "    df_new['std_volume_5'] = df['Volume'].rolling(5).std().shift(1)\n",
    "    df_new['std_volume_30'] = df['Volume'].rolling(21).std().shift(1)\n",
    "    df_new['std_volume_365'] = df['Volume'].rolling(252).std().shift(1)\n",
    "    df_new['ratio_std_volume_5_30'] = df_new['std_volume_5'] / df_new['std_volume_30']\n",
    "    df_new['ratio_std_volume_5_365'] = df_new['std_volume_5'] / df_new['std_volume_365']\n",
    "    df_new['ratio_std_volume_30_365'] = df_new['std_volume_30'] / df_new['std_volume_365']\n"
   ]
  },
  {
   "cell_type": "code",
   "execution_count": 9,
   "id": "aeb19b45",
   "metadata": {},
   "outputs": [],
   "source": [
    "def add_return_feature(df, df_new):\n",
    "    df_new['return_1'] = ((df['Close'] - df['Close'].shift(1)) / df['Close'].shift(1)).shift(1)\n",
    "    df_new['return_5'] = ((df['Close'] - df['Close'].shift(5)) / df['Close'].shift(5)).shift(1)\n",
    "    df_new['return_30'] = ((df['Close'] - df['Close'].shift(21)) / df['Close'].shift(21)).shift(1)\n",
    "    df_new['return_365'] = ((df['Close'] - df['Close'].shift(252)) / df['Close'].shift(252)).shift(1)\n",
    "    df_new['moving_avg_5'] = df_new['return_1'].rolling(5).mean().shift(1)\n",
    "    df_new['moving_avg_30'] = df_new['return_1'].rolling(21).mean().shift(1)\n",
    "    df_new['moving_avg_365'] = df_new['return_1'].rolling(252).mean().shift(1)\n"
   ]
  },
  {
   "cell_type": "code",
   "execution_count": 10,
   "id": "e0af93c0",
   "metadata": {},
   "outputs": [],
   "source": [
    "def generate_features(df):\n",
    "    df_new = pd.DataFrame()\n",
    "    add_original_feature(df, df_new)\n",
    "    add_avg_price(df, df_new)\n",
    "    add_avg_volume(df, df_new)\n",
    "    add_std_price(df, df_new)\n",
    "    add_std_volume(df, df_new)\n",
    "    add_return_feature(df, df_new)\n",
    "    df_new['close'] = df['Close']\n",
    "    df_new = df_new.dropna(axis=0)\n",
    "    return df_new\n"
   ]
  },
  {
   "cell_type": "code",
   "execution_count": 13,
   "id": "91529c99",
   "metadata": {},
   "outputs": [],
   "source": [
    "import pandas as pd\n",
    "data_raw = pd.read_csv('19880101_20191231.csv', index_col='Date')\n",
    "data = generate_features(data_raw)\n"
   ]
  },
  {
   "cell_type": "code",
   "execution_count": 14,
   "id": "56c0a5bb",
   "metadata": {},
   "outputs": [
    {
     "name": "stdout",
     "output_type": "stream",
     "text": [
      "             open   open_1  close_1   high_1    low_1     volume_1  \\\n",
      "Date                                                                 \n",
      "2018-12-26  21858  22629.0  23139.0  23139.0  22267.0  407940000.0   \n",
      "2018-12-24  22317  21858.0  22878.0  22879.0  21713.0  433080000.0   \n",
      "2018-12-21  22872  22317.0  21792.0  22340.0  21792.0  308420000.0   \n",
      "2018-12-20  23224  22872.0  22445.0  23255.0  22396.0  900510000.0   \n",
      "2018-12-19  23693  23224.0  22860.0  23282.0  22644.0  576700000.0   \n",
      "\n",
      "            avg_price_5  avg_price_30  avg_price_365  ratio_avg_price_5_30  \\\n",
      "Date                                                                         \n",
      "2018-12-26      23112.0     23916.429      26315.571                 0.966   \n",
      "2018-12-24      23150.4     23837.857      26292.782                 0.971   \n",
      "2018-12-21      22839.6     23697.619      26266.103                 0.964   \n",
      "2018-12-20      22663.2     23597.238      26241.869                 0.960   \n",
      "2018-12-19      22622.8     23515.524      26219.667                 0.962   \n",
      "\n",
      "            ...  ratio_std_volume_5_365  ratio_std_volume_30_365  return_1  \\\n",
      "Date        ...                                                              \n",
      "2018-12-26  ...                   0.870                    0.647     0.003   \n",
      "2018-12-24  ...                   0.907                    0.722    -0.011   \n",
      "2018-12-21  ...                   0.955                    0.726    -0.047   \n",
      "2018-12-20  ...                   3.163                    1.731     0.030   \n",
      "2018-12-19  ...                   3.032                    1.841     0.018   \n",
      "\n",
      "            return_5  return_30  return_365  moving_avg_5  moving_avg_30  \\\n",
      "Date                                                                       \n",
      "2018-12-26    -0.013     -0.059      -0.192        -0.004         -0.004   \n",
      "2018-12-24     0.008     -0.067      -0.201        -0.002         -0.003   \n",
      "2018-12-21    -0.067     -0.119      -0.236         0.002         -0.003   \n",
      "2018-12-20    -0.038     -0.086      -0.214        -0.014         -0.006   \n",
      "2018-12-19    -0.009     -0.070      -0.197        -0.007         -0.004   \n",
      "\n",
      "            moving_avg_365  close  \n",
      "Date                               \n",
      "2018-12-26          -0.001  22878  \n",
      "2018-12-24          -0.001  21792  \n",
      "2018-12-21          -0.001  22445  \n",
      "2018-12-20          -0.001  22860  \n",
      "2018-12-19          -0.001  23324  \n",
      "\n",
      "[5 rows x 38 columns]\n"
     ]
    }
   ],
   "source": [
    "print(data.round(decimals=3).head(5))\n"
   ]
  },
  {
   "cell_type": "markdown",
   "id": "5fc261ae",
   "metadata": {},
   "source": [
    "# Estimating with linear regression"
   ]
  },
  {
   "cell_type": "code",
   "execution_count": 15,
   "id": "e68bcf9c",
   "metadata": {},
   "outputs": [],
   "source": [
    "def compute_prediction(X, weights):\n",
    "    predictions = np.dot(X, weights)\n",
    "    return predictions\n"
   ]
  },
  {
   "cell_type": "code",
   "execution_count": 16,
   "id": "8760d39d",
   "metadata": {},
   "outputs": [],
   "source": [
    "def update_weights_gd(X_train, y_train, weights, learning_rate):\n",
    "    predictions = compute_prediction(X_train, weights)\n",
    "    weights_delta = np.dot(X_train.T, y_train - predictions)\n",
    "    m = y_train.shape[0]\n",
    "    weights += learning_rate / float(m) * weights_delta\n",
    "    return weights\n"
   ]
  },
  {
   "cell_type": "code",
   "execution_count": 17,
   "id": "e42eeeb6",
   "metadata": {},
   "outputs": [],
   "source": [
    "def compute_cost(X, y, weights):\n",
    "    predictions = compute_prediction(X, weights)\n",
    "    cost = np.mean((predictions - y) ** 2 / 2.0)\n",
    "    return cost\n"
   ]
  },
  {
   "cell_type": "code",
   "execution_count": 18,
   "id": "70402ec3",
   "metadata": {},
   "outputs": [],
   "source": [
    "def train_linear_regression(X_train, y_train, max_iter, learning_rate, fit_intercept=False):\n",
    "    if fit_intercept:\n",
    "        intercept = np.ones((X_train.shape[0], 1))\n",
    "        X_train = np.hstack((intercept, X_train))\n",
    "    weights = np.zeros(X_train.shape[1])\n",
    "    for iteration in range(max_iter):\n",
    "        weights = update_weights_gd(X_train, y_train, weights, learning_rate)\n",
    "        if iteration % 100 == 0:\n",
    "            print(compute_cost(X_train, y_train, weights))\n",
    "    return weights\n"
   ]
  },
  {
   "cell_type": "code",
   "execution_count": 20,
   "id": "3748237b",
   "metadata": {},
   "outputs": [],
   "source": [
    "def predict(X, weights):\n",
    "    if X.shape[1] == weights.shape[0] - 1:\n",
    "        intercept = np.ones((X.shape[0], 1))\n",
    "        X = np.hstack((intercept, X))\n",
    "    return compute_prediction(X, weights)\n"
   ]
  },
  {
   "cell_type": "code",
   "execution_count": 23,
   "id": "fb26ce42",
   "metadata": {},
   "outputs": [],
   "source": [
    "import numpy as np\n",
    "X_train = np.array([[6], [2],[3],[4], [1],[5], [2],[6],[4],[7]])\n",
    "y_train = np.array([5.5,1.6,2.2,3.7,0.8,5.2,1.5,5.3,4.4,6.8])\n"
   ]
  },
  {
   "cell_type": "code",
   "execution_count": 24,
   "id": "e54a01ba",
   "metadata": {},
   "outputs": [
    {
     "name": "stdout",
     "output_type": "stream",
     "text": [
      "5.571972628\n"
     ]
    }
   ],
   "source": [
    "weights = train_linear_regression(X_train, y_train, max_iter=100, learning_rate=0.01, fit_intercept=True)\n"
   ]
  },
  {
   "cell_type": "code",
   "execution_count": 25,
   "id": "bd0907cc",
   "metadata": {},
   "outputs": [
    {
     "data": {
      "image/png": "[encoded data removed]",
      "text/plain": [
       "<Figure size 432x288 with 1 Axes>"
      ]
     },
     "metadata": {
      "needs_background": "light"
     },
     "output_type": "display_data"
    }
   ],
   "source": [
    "X_test = np.array([[1.3], [3.5], [5.2], [2.8]])\n",
    "predictions = predict(X_test, weights)\n",
    "import matplotlib.pyplot as plt\n",
    "plt.scatter(X_train[:, 0], y_train, marker='o', c='b')\n",
    "plt.scatter(X_test[:, 0], predictions, marker='*', c='k')\n",
    "plt.xlabel('x')\n",
    "plt.ylabel('y')\n",
    "plt.show()\n"
   ]
  },
  {
   "cell_type": "code",
   "execution_count": 26,
   "id": "13f363ad",
   "metadata": {},
   "outputs": [
    {
     "name": "stdout",
     "output_type": "stream",
     "text": [
      "(442, 10)\n"
     ]
    }
   ],
   "source": [
    "from sklearn import datasets\n",
    "diabetes = datasets.load_diabetes()\n",
    "print(diabetes.data.shape)\n",
    "num_test = 30\n",
    "X_train = diabetes.data[:-num_test, :]\n",
    "y_train = diabetes.target[:-num_test]\n"
   ]
  },
  {
   "cell_type": "code",
   "execution_count": 27,
   "id": "e73fbe07",
   "metadata": {},
   "outputs": [
    {
     "name": "stdout",
     "output_type": "stream",
     "text": [
      "2960.1229914979613\n",
      "1984.7462454746596\n",
      "1729.7738773110927\n",
      "1627.6313188621893\n",
      "1572.7594881683713\n",
      "1539.5508092659084\n",
      "1518.6139706969352\n",
      "1505.18745041147\n",
      "1496.4839556100546\n",
      "1490.7883504050646\n",
      "1487.02495657815\n",
      "1484.5122232041992\n",
      "1482.8149885868895\n",
      "1481.653480588507\n",
      "1480.8466247976992\n",
      "1480.2764434158958\n",
      "1479.865546786167\n",
      "1479.5628140620274\n",
      "1479.3342299057756\n",
      "1479.1569872186712\n",
      "1479.0156704666117\n",
      "1478.8997716076012\n",
      "1478.8020640163982\n",
      "1478.7175316918754\n",
      "1478.6426597055656\n",
      "1478.5749609087393\n",
      "1478.5126580122144\n",
      "1478.454468440121\n",
      "1478.399457585006\n",
      "1478.346937887091\n",
      "1478.296398827891\n",
      "1478.2474579352602\n",
      "1478.1998261818974\n",
      "1478.153283325459\n",
      "1478.1076601744603\n",
      "1478.062825721594\n",
      "1478.0186777284687\n",
      "1477.9751357796013\n",
      "1477.9321361185648\n",
      "1477.889627781425\n",
      "1477.8475696822725\n",
      "1477.8059284029846\n",
      "1477.764676507645\n",
      "1477.72379125052\n",
      "1477.683253581075\n",
      "1477.6430473744474\n",
      "1477.603158833949\n",
      "1477.5635760254202\n",
      "1477.5242885130954\n",
      "1477.48528707389\n",
      "[232.22305668 123.87481969 166.12805033 170.23901231 228.12868839\n",
      " 154.95746522 101.09058779  87.33631249 143.68332296 190.29353122\n",
      " 198.00676871 149.63039042 169.56066651 109.01983998 161.98477191\n",
      " 133.00870377 260.1831988  101.52551082 115.76677836 120.7338523\n",
      " 219.62602446  62.21227353 136.29989073 122.27908721  55.14492975\n",
      " 191.50339388 105.685612   126.25915035 208.99755875  47.66517424]\n",
      "[261. 113. 131. 174. 257.  55.  84.  42. 146. 212. 233.  91. 111. 152.\n",
      " 120.  67. 310.  94. 183.  66. 173.  72.  49.  64.  48. 178. 104. 132.\n",
      " 220.  57.]\n"
     ]
    }
   ],
   "source": [
    "weights = train_linear_regression(X_train, y_train,max_iter=5000, learning_rate=1, fit_intercept=True)\n",
    "X_test = diabetes.data[-num_test:, :]\n",
    "y_test = diabetes.target[-num_test:]\n",
    "predictions = predict(X_test, weights)\n",
    "print(predictions)\n",
    "print(y_test)\n"
   ]
  },
  {
   "cell_type": "markdown",
   "id": "a4d20995",
   "metadata": {},
   "source": [
    "# Implementing linear regression with scikit-learn\n"
   ]
  },
  {
   "cell_type": "code",
   "execution_count": 28,
   "id": "cc03dbbb",
   "metadata": {},
   "outputs": [],
   "source": [
    "from sklearn.linear_model import SGDRegressor\n",
    "regressor = SGDRegressor(loss='squared_loss', penalty='l2', alpha=0.0001, learning_rate='constant', eta0=0.01, max_iter=1000)\n"
   ]
  },
  {
   "cell_type": "code",
   "execution_count": 29,
   "id": "6638be70",
   "metadata": {},
   "outputs": [
    {
     "name": "stdout",
     "output_type": "stream",
     "text": [
      "[218.10786698 128.81796247 191.23486382 173.5260657  208.53234496\n",
      " 147.99689323 125.90906243  97.5184892  159.12720297 198.41409258\n",
      " 192.02670003 169.88206724 175.011211    96.63562501 186.97923482\n",
      " 137.85718375 252.49749205 113.6043566  131.9142913  132.68611261\n",
      " 213.83601225  86.30535977 142.41970971 127.38540729  67.89625021\n",
      " 188.65728729 140.22446818 142.59918922 190.10366884  76.13007923]\n"
     ]
    },
    {
     "name": "stderr",
     "output_type": "stream",
     "text": [
      "/opt/anaconda3/lib/python3.8/site-packages/sklearn/linear_model/_stochastic_gradient.py:165: FutureWarning: The loss 'squared_loss' was deprecated in v1.0 and will be removed in version 1.2. Use `loss='squared_error'` which is equivalent.\n",
      "  warnings.warn(\n"
     ]
    }
   ],
   "source": [
    "regressor.fit(X_train, y_train)\n",
    "predictions = regressor.predict(X_test)\n",
    "print(predictions)\n"
   ]
  },
  {
   "cell_type": "markdown",
   "id": "2c002210",
   "metadata": {},
   "source": [
    "# Implementing linear regression with TensorFlow\n"
   ]
  },
  {
   "cell_type": "code",
   "execution_count": 31,
   "id": "9e7a6223",
   "metadata": {},
   "outputs": [
    {
     "name": "stderr",
     "output_type": "stream",
     "text": [
      "2021-12-10 19:38:42.719531: I tensorflow/compiler/jit/xla_cpu_device.cc:41] Not creating XLA devices, tf_xla_enable_xla_devices not set\n",
      "2021-12-10 19:38:42.720183: I tensorflow/core/platform/cpu_feature_guard.cc:142] This TensorFlow binary is optimized with oneAPI Deep Neural Network Library (oneDNN) to use the following CPU instructions in performance-critical operations:  SSE4.1 SSE4.2 AVX AVX2 FMA\n",
      "To enable them in other operations, rebuild TensorFlow with the appropriate compiler flags.\n",
      "2021-12-10 19:38:42.720926: I tensorflow/core/common_runtime/process_util.cc:146] Creating new thread pool with default inter op setting: 2. Tune using inter_op_parallelism_threads for best performance.\n"
     ]
    }
   ],
   "source": [
    "import tensorflow as tf\n",
    "layer0 = tf.keras.layers.Dense(units=1, input_shape=[X_train.shape[1]])\n",
    "model = tf.keras.Sequential(layer0)\n"
   ]
  },
  {
   "cell_type": "code",
   "execution_count": 32,
   "id": "a393041e",
   "metadata": {},
   "outputs": [],
   "source": [
    "model.compile(loss='mean_squared_error', optimizer=tf.keras.optimizers.Adam(1))\n"
   ]
  },
  {
   "cell_type": "code",
   "execution_count": 33,
   "id": "4c862118",
   "metadata": {},
   "outputs": [
    {
     "name": "stderr",
     "output_type": "stream",
     "text": [
      "2021-12-10 19:39:05.844373: I tensorflow/compiler/mlir/mlir_graph_optimization_pass.cc:116] None of the MLIR optimization passes are enabled (registered 2)\n",
      "2021-12-10 19:39:05.869225: I tensorflow/core/platform/profile_utils/cpu_utils.cc:112] CPU Frequency: 2899885000 Hz\n"
     ]
    },
    {
     "name": "stdout",
     "output_type": "stream",
     "text": [
      "Epoch 1/100\n",
      "13/13 [==============================] - 0s 4ms/step - loss: 26282.3474\n",
      "Epoch 2/100\n",
      "13/13 [==============================] - 0s 3ms/step - loss: 25326.0896\n",
      "Epoch 3/100\n",
      "13/13 [==============================] - 0s 4ms/step - loss: 19900.4436\n",
      "Epoch 4/100\n",
      "13/13 [==============================] - 0s 3ms/step - loss: 17657.3917\n",
      "Epoch 5/100\n",
      "13/13 [==============================] - 0s 5ms/step - loss: 14575.3015\n",
      "Epoch 6/100\n",
      "13/13 [==============================] - 0s 3ms/step - loss: 13642.6122\n",
      "Epoch 7/100\n",
      "13/13 [==============================] - 0s 6ms/step - loss: 10612.3838\n",
      "Epoch 8/100\n",
      "13/13 [==============================] - 0s 3ms/step - loss: 9226.4171\n",
      "Epoch 9/100\n",
      "13/13 [==============================] - 0s 4ms/step - loss: 9734.0991\n",
      "Epoch 10/100\n",
      "13/13 [==============================] - 0s 4ms/step - loss: 6646.4424\n",
      "Epoch 11/100\n",
      "13/13 [==============================] - 0s 8ms/step - loss: 6145.2970\n",
      "Epoch 12/100\n",
      "13/13 [==============================] - 0s 7ms/step - loss: 6417.5495\n",
      "Epoch 13/100\n",
      "13/13 [==============================] - 0s 8ms/step - loss: 5078.0427\n",
      "Epoch 14/100\n",
      "13/13 [==============================] - 0s 9ms/step - loss: 5056.8097\n",
      "Epoch 15/100\n",
      "13/13 [==============================] - 0s 6ms/step - loss: 5151.8556\n",
      "Epoch 16/100\n",
      "13/13 [==============================] - 0s 7ms/step - loss: 4232.1635\n",
      "Epoch 17/100\n",
      "13/13 [==============================] - 0s 6ms/step - loss: 3821.4652\n",
      "Epoch 18/100\n",
      "13/13 [==============================] - 0s 6ms/step - loss: 4321.6316\n",
      "Epoch 19/100\n",
      "13/13 [==============================] - 0s 6ms/step - loss: 3628.3087\n",
      "Epoch 20/100\n",
      "13/13 [==============================] - 0s 3ms/step - loss: 3833.6282\n",
      "Epoch 21/100\n",
      "13/13 [==============================] - 0s 4ms/step - loss: 4126.1178\n",
      "Epoch 22/100\n",
      "13/13 [==============================] - 0s 9ms/step - loss: 3859.8696\n",
      "Epoch 23/100\n",
      "13/13 [==============================] - 0s 2ms/step - loss: 3485.0483\n",
      "Epoch 24/100\n",
      "13/13 [==============================] - ETA: 0s - loss: 4789.28 - 0s 4ms/step - loss: 3577.0260\n",
      "Epoch 25/100\n",
      "13/13 [==============================] - 0s 5ms/step - loss: 3494.7076\n",
      "Epoch 26/100\n",
      "13/13 [==============================] - 0s 6ms/step - loss: 3628.5879\n",
      "Epoch 27/100\n",
      "13/13 [==============================] - 0s 11ms/step - loss: 3354.6188\n",
      "Epoch 28/100\n",
      "13/13 [==============================] - 0s 9ms/step - loss: 3238.0728\n",
      "Epoch 29/100\n",
      "13/13 [==============================] - 0s 5ms/step - loss: 3641.3976\n",
      "Epoch 30/100\n",
      "13/13 [==============================] - 0s 4ms/step - loss: 3460.2429\n",
      "Epoch 31/100\n",
      "13/13 [==============================] - 0s 3ms/step - loss: 3613.9554\n",
      "Epoch 32/100\n",
      "13/13 [==============================] - 0s 5ms/step - loss: 3177.7765\n",
      "Epoch 33/100\n",
      "13/13 [==============================] - 0s 13ms/step - loss: 3314.8433\n",
      "Epoch 34/100\n",
      "13/13 [==============================] - 0s 6ms/step - loss: 3181.5301\n",
      "Epoch 35/100\n",
      "13/13 [==============================] - 0s 3ms/step - loss: 3132.8226\n",
      "Epoch 36/100\n",
      "13/13 [==============================] - 0s 5ms/step - loss: 3232.1798\n",
      "Epoch 37/100\n",
      "13/13 [==============================] - 0s 4ms/step - loss: 3184.8475\n",
      "Epoch 38/100\n",
      "13/13 [==============================] - 0s 3ms/step - loss: 3542.8612\n",
      "Epoch 39/100\n",
      "13/13 [==============================] - 0s 4ms/step - loss: 3139.6360\n",
      "Epoch 40/100\n",
      "13/13 [==============================] - 0s 3ms/step - loss: 3119.4299\n",
      "Epoch 41/100\n",
      "13/13 [==============================] - 0s 2ms/step - loss: 2996.3434\n",
      "Epoch 42/100\n",
      "13/13 [==============================] - 0s 4ms/step - loss: 3168.9450\n",
      "Epoch 43/100\n",
      "13/13 [==============================] - 0s 3ms/step - loss: 3232.6764\n",
      "Epoch 44/100\n",
      "13/13 [==============================] - 0s 3ms/step - loss: 3312.4173\n",
      "Epoch 45/100\n",
      "13/13 [==============================] - 0s 3ms/step - loss: 3076.0211\n",
      "Epoch 46/100\n",
      "13/13 [==============================] - 0s 2ms/step - loss: 3249.8867\n",
      "Epoch 47/100\n",
      "13/13 [==============================] - 0s 3ms/step - loss: 3319.2663\n",
      "Epoch 48/100\n",
      "13/13 [==============================] - 0s 2ms/step - loss: 2920.5003\n",
      "Epoch 49/100\n",
      "13/13 [==============================] - 0s 2ms/step - loss: 2854.4327\n",
      "Epoch 50/100\n",
      "13/13 [==============================] - 0s 3ms/step - loss: 2955.5654\n",
      "Epoch 51/100\n",
      "13/13 [==============================] - 0s 5ms/step - loss: 3195.2938\n",
      "Epoch 52/100\n",
      "13/13 [==============================] - 0s 4ms/step - loss: 3124.4454\n",
      "Epoch 53/100\n",
      "13/13 [==============================] - 0s 4ms/step - loss: 3036.4377\n",
      "Epoch 54/100\n",
      "13/13 [==============================] - 0s 2ms/step - loss: 2988.1332\n",
      "Epoch 55/100\n",
      "13/13 [==============================] - 0s 2ms/step - loss: 3246.7028\n",
      "Epoch 56/100\n",
      "13/13 [==============================] - 0s 2ms/step - loss: 2896.2990\n",
      "Epoch 57/100\n",
      "13/13 [==============================] - 0s 3ms/step - loss: 2933.9966\n",
      "Epoch 58/100\n",
      "13/13 [==============================] - 0s 2ms/step - loss: 3052.5316\n",
      "Epoch 59/100\n",
      "13/13 [==============================] - 0s 3ms/step - loss: 3044.2796\n",
      "Epoch 60/100\n",
      "13/13 [==============================] - 0s 2ms/step - loss: 3123.2817\n",
      "Epoch 61/100\n",
      "13/13 [==============================] - 0s 2ms/step - loss: 3060.3667\n",
      "Epoch 62/100\n",
      "13/13 [==============================] - 0s 2ms/step - loss: 3111.4352\n",
      "Epoch 63/100\n",
      "13/13 [==============================] - 0s 2ms/step - loss: 2920.6180\n",
      "Epoch 64/100\n",
      "13/13 [==============================] - 0s 3ms/step - loss: 3081.1908\n",
      "Epoch 65/100\n",
      "13/13 [==============================] - 0s 2ms/step - loss: 2976.5211\n",
      "Epoch 66/100\n",
      "13/13 [==============================] - 0s 2ms/step - loss: 2904.7584\n",
      "Epoch 67/100\n",
      "13/13 [==============================] - 0s 2ms/step - loss: 2976.9008\n",
      "Epoch 68/100\n",
      "13/13 [==============================] - 0s 7ms/step - loss: 3085.1978\n",
      "Epoch 69/100\n",
      "13/13 [==============================] - 0s 4ms/step - loss: 2856.4086\n",
      "Epoch 70/100\n",
      "13/13 [==============================] - 0s 9ms/step - loss: 2910.5769\n",
      "Epoch 71/100\n",
      "13/13 [==============================] - 0s 5ms/step - loss: 3103.2170\n",
      "Epoch 72/100\n",
      "13/13 [==============================] - 0s 2ms/step - loss: 3117.0670\n",
      "Epoch 73/100\n",
      "13/13 [==============================] - 0s 4ms/step - loss: 2967.7717\n",
      "Epoch 74/100\n",
      "13/13 [==============================] - 0s 2ms/step - loss: 2818.0655\n",
      "Epoch 75/100\n",
      "13/13 [==============================] - 0s 4ms/step - loss: 2838.6440\n",
      "Epoch 76/100\n",
      "13/13 [==============================] - 0s 6ms/step - loss: 3114.8742\n",
      "Epoch 77/100\n",
      "13/13 [==============================] - 0s 8ms/step - loss: 2721.5029\n",
      "Epoch 78/100\n",
      "13/13 [==============================] - 0s 4ms/step - loss: 3115.4916\n",
      "Epoch 79/100\n",
      "13/13 [==============================] - 0s 5ms/step - loss: 3318.2544\n",
      "Epoch 80/100\n",
      "13/13 [==============================] - 0s 5ms/step - loss: 2955.2247\n",
      "Epoch 81/100\n",
      "13/13 [==============================] - 0s 3ms/step - loss: 3241.8246\n",
      "Epoch 82/100\n",
      "13/13 [==============================] - 0s 3ms/step - loss: 2961.3744\n",
      "Epoch 83/100\n",
      "13/13 [==============================] - 0s 6ms/step - loss: 2963.4044\n",
      "Epoch 84/100\n",
      "13/13 [==============================] - 0s 4ms/step - loss: 2884.9057\n",
      "Epoch 85/100\n",
      "13/13 [==============================] - 0s 3ms/step - loss: 2920.0443\n",
      "Epoch 86/100\n",
      "13/13 [==============================] - 0s 4ms/step - loss: 2913.1380\n",
      "Epoch 87/100\n",
      "13/13 [==============================] - 0s 4ms/step - loss: 2839.3455\n",
      "Epoch 88/100\n",
      "13/13 [==============================] - 0s 3ms/step - loss: 2783.0472\n",
      "Epoch 89/100\n",
      "13/13 [==============================] - 0s 3ms/step - loss: 3144.7663\n",
      "Epoch 90/100\n",
      "13/13 [==============================] - 0s 4ms/step - loss: 2904.6148\n",
      "Epoch 91/100\n",
      "13/13 [==============================] - 0s 4ms/step - loss: 3122.2264\n",
      "Epoch 92/100\n",
      "13/13 [==============================] - 0s 2ms/step - loss: 3173.1506\n",
      "Epoch 93/100\n",
      "13/13 [==============================] - 0s 3ms/step - loss: 2940.1132\n",
      "Epoch 94/100\n",
      "13/13 [==============================] - 0s 2ms/step - loss: 3144.4133\n",
      "Epoch 95/100\n",
      "13/13 [==============================] - 0s 3ms/step - loss: 3024.8850\n",
      "Epoch 96/100\n",
      "13/13 [==============================] - 0s 6ms/step - loss: 3036.2312\n",
      "Epoch 97/100\n",
      "13/13 [==============================] - 0s 10ms/step - loss: 3224.0958\n",
      "Epoch 98/100\n"
     ]
    },
    {
     "name": "stdout",
     "output_type": "stream",
     "text": [
      "13/13 [==============================] - 0s 14ms/step - loss: 2868.2804\n",
      "Epoch 99/100\n",
      "13/13 [==============================] - 0s 12ms/step - loss: 2678.2198\n",
      "Epoch 100/100\n",
      "13/13 [==============================] - 0s 3ms/step - loss: 2844.0761\n"
     ]
    },
    {
     "data": {
      "text/plain": [
       "<tensorflow.python.keras.callbacks.History at 0x7f2b37e516a0>"
      ]
     },
     "execution_count": 33,
     "metadata": {},
     "output_type": "execute_result"
    }
   ],
   "source": [
    "model.fit(X_train, y_train, epochs=100, verbose=True)"
   ]
  },
  {
   "cell_type": "code",
   "execution_count": 34,
   "id": "5621e04c",
   "metadata": {},
   "outputs": [
    {
     "name": "stdout",
     "output_type": "stream",
     "text": [
      "[231.80783  124.58344  167.00018  171.6597   228.17757  152.43478\n",
      " 103.23216   92.23092  151.23068  190.50626  191.27783  153.05927\n",
      " 169.4376   106.67499  167.38737  134.08409  259.771    101.867676\n",
      " 119.587006 121.46767  219.55157   65.42935  138.69969  123.94461\n",
      "  56.89624  189.72125  108.98227  129.62686  205.42705   48.567947]\n"
     ]
    }
   ],
   "source": [
    "predictions = model.predict(X_test)[:, 0]\n",
    "print(predictions)\n"
   ]
  },
  {
   "cell_type": "markdown",
   "id": "82846f0b",
   "metadata": {},
   "source": [
    "# Estimating with decision tree regression"
   ]
  },
  {
   "cell_type": "code",
   "execution_count": 35,
   "id": "e0338683",
   "metadata": {},
   "outputs": [],
   "source": [
    "def mse(targets):\n",
    "    if targets.size == 0:\n",
    "        return 0\n",
    "    return np.var(targets)\n"
   ]
  },
  {
   "cell_type": "code",
   "execution_count": 36,
   "id": "fbdf934a",
   "metadata": {},
   "outputs": [],
   "source": [
    "def weighted_mse(groups):\n",
    "    total = sum(len(group) for group in groups)\n",
    "    weighted_sum = 0.0\n",
    "    for group in groups:\n",
    "        weighted_sum += len(group) / float(total) * mse(group)\n",
    "    return weighted_sum\n"
   ]
  },
  {
   "cell_type": "code",
   "execution_count": 37,
   "id": "ebcaf726",
   "metadata": {},
   "outputs": [
    {
     "name": "stdout",
     "output_type": "stream",
     "text": [
      "0.6667\n",
      "0.5000\n"
     ]
    }
   ],
   "source": [
    "print(f'{mse(np.array([1, 2, 3])):.4f}')\n",
    "print(f'{weighted_mse([np.array([1, 2, 3]), np.array([1, 2])]):.4f}')\n"
   ]
  },
  {
   "cell_type": "code",
   "execution_count": 38,
   "id": "52912e79",
   "metadata": {},
   "outputs": [],
   "source": [
    "def split_node(X, y, index, value):\n",
    "    x_index = X[:, index]\n",
    "    if type(X[0, index]) in [int, float]:\n",
    "        mask = x_index >= value\n",
    "    else:\n",
    "        mask = x_index == value\n",
    "    left = [X[~mask, :], y[~mask]]\n",
    "    right = [X[mask, :], y[mask]]\n",
    "    return left, right\n"
   ]
  },
  {
   "cell_type": "code",
   "execution_count": 41,
   "id": "6c209e38",
   "metadata": {},
   "outputs": [],
   "source": [
    "def get_best_split(X, y):\n",
    "    best_index, best_value, best_score, children = None, None, 1e10, None\n",
    "    for index in range(len(X[0])):\n",
    "        for value in np.sort(np.unique(X[:, index])):\n",
    "            groups = split_node(X, y, index, value)\n",
    "            impurity = weighted_mse([groups[0][1], groups[1][1]])\n",
    "            if impurity < best_score:\n",
    "                best_index, best_value, best_score, children = index, value, impurity, groups\n",
    "    return {'index': best_index, 'value': best_value, 'children': children}\n"
   ]
  },
  {
   "cell_type": "code",
   "execution_count": 42,
   "id": "c9aa333c",
   "metadata": {},
   "outputs": [],
   "source": [
    "def get_leaf(targets):\n",
    "    return np.mean(targets)\n"
   ]
  },
  {
   "cell_type": "code",
   "execution_count": 43,
   "id": "1647dca4",
   "metadata": {},
   "outputs": [],
   "source": [
    "def split(node, max_depth, min_size, depth):\n",
    "    left, right = node['children']\n",
    "    del (node['children'])\n",
    "    if left[1].size == 0:\n",
    "        node['right'] = get_leaf(right[1])\n",
    "        return\n",
    "    if right[1].size == 0:\n",
    "        node['left'] = get_leaf(left[1])\n",
    "        return\n",
    "    if depth >= max_depth:\n",
    "        node['left'], node['right'] = get_leaf(\n",
    "        left[1]), get_leaf(right[1])\n",
    "        return\n",
    "    if left[1].size <= min_size:\n",
    "        node['left'] = get_leaf(left[1])\n",
    "    else:\n",
    "        result = get_best_split(left[0], left[1])\n",
    "        result_left, result_right = result['children']\n",
    "        if result_left[1].size == 0:\n",
    "            node['left'] = get_leaf(result_right[1])\n",
    "        elif result_right[1].size == 0:\n",
    "            node['left'] = get_leaf(result_left[1])\n",
    "        else:\n",
    "            node['left'] = result\n",
    "            split(node['left'], max_depth, min_size, depth + 1)\n",
    "    if right[1].size <= min_size:\n",
    "        node['right'] = get_leaf(right[1])\n",
    "    else:\n",
    "        result = get_best_split(right[0], right[1])\n",
    "        result_left, result_right = result['children']\n",
    "        if result_left[1].size == 0:\n",
    "            node['right'] = get_leaf(result_right[1])\n",
    "        elif result_right[1].size == 0:\n",
    "            node['right'] = get_leaf(result_left[1])\n",
    "        else:\n",
    "            node['right'] = result\n",
    "            split(node['right'], max_depth, min_size, depth + 1)\n"
   ]
  },
  {
   "cell_type": "code",
   "execution_count": 44,
   "id": "e3079e88",
   "metadata": {},
   "outputs": [],
   "source": [
    "def train_tree(X_train, y_train, max_depth, min_size):\n",
    "    root = get_best_split(X_train, y_train)\n",
    "    split(root, max_depth, min_size, 1)\n",
    "    return root\n"
   ]
  },
  {
   "cell_type": "code",
   "execution_count": 45,
   "id": "df3f28d0",
   "metadata": {},
   "outputs": [],
   "source": [
    "X_train = np.array([['semi', 3], ['detached', 2], ['detached', 3], ['semi', 2], ['semi', 4]], dtype=object)\n",
    "y_train = np.array([600, 700, 800, 400, 700])\n",
    "tree = train_tree(X_train, y_train, 2, 2)\n"
   ]
  },
  {
   "cell_type": "code",
   "execution_count": 46,
   "id": "4c57a95f",
   "metadata": {},
   "outputs": [
    {
     "name": "stdout",
     "output_type": "stream",
     "text": [
      "|- X1 is not detached\n",
      " |- X2 < 3\n",
      "  [400.0]\n",
      " |- X2 >= 3\n",
      "  [650.0]\n",
      "|- X1 is detached\n",
      " [750.0]\n"
     ]
    }
   ],
   "source": [
    "CONDITION = {'numerical': {'yes': '>=', 'no': '<'}, 'categorical': {'yes': 'is', 'no': 'is not'}}\n",
    "def visualize_tree(node, depth=0):\n",
    "    if isinstance(node, dict):\n",
    "        if type(node['value']) in [int, float]:\n",
    "            condition = CONDITION['numerical']\n",
    "        else:\n",
    "            condition = CONDITION['categorical']\n",
    "        print('{}|- X{} {} {}'.format(depth * ' ', node['index'] + 1, condition['no'], node['value']))\n",
    "        if 'left' in node:\n",
    "            visualize_tree(node['left'], depth + 1)\n",
    "        print('{}|- X{} {} {}'.format(depth * ' ', node['index'] + 1, condition['yes'], node['value']))\n",
    "        if 'right' in node:\n",
    "            visualize_tree(node['right'], depth + 1)\n",
    "    else:\n",
    "        print('{}[{}]'.format(depth * ' ', node))\n",
    "visualize_tree(tree) \n"
   ]
  },
  {
   "cell_type": "code",
   "execution_count": 47,
   "id": "1bdbeac8",
   "metadata": {},
   "outputs": [
    {
     "name": "stderr",
     "output_type": "stream",
     "text": [
      "/opt/anaconda3/lib/python3.8/site-packages/sklearn/utils/deprecation.py:87: FutureWarning: Function load_boston is deprecated; `load_boston` is deprecated in 1.0 and will be removed in 1.2.\n",
      "\n",
      "    The Boston housing prices dataset has an ethical problem. You can refer to\n",
      "    the documentation of this function for further details.\n",
      "\n",
      "    The scikit-learn maintainers therefore strongly discourage the use of this\n",
      "    dataset unless the purpose of the code is to study and educate about\n",
      "    ethical issues in data science and machine learning.\n",
      "\n",
      "    In this special case, you can fetch the dataset from the original\n",
      "    source::\n",
      "\n",
      "        import pandas as pd\n",
      "        import numpy as np\n",
      "\n",
      "\n",
      "        data_url = \"http://lib.stat.cmu.edu/datasets/boston\"\n",
      "        raw_df = pd.read_csv(data_url, sep=\"\\s+\", skiprows=22, header=None)\n",
      "        data = np.hstack([raw_df.values[::2, :], raw_df.values[1::2, :2]])\n",
      "        target = raw_df.values[1::2, 2]\n",
      "\n",
      "    Alternative datasets include the California housing dataset (i.e.\n",
      "    :func:`~sklearn.datasets.fetch_california_housing`) and the Ames housing\n",
      "    dataset. You can load the datasets as follows::\n",
      "\n",
      "        from sklearn.datasets import fetch_california_housing\n",
      "        housing = fetch_california_housing()\n",
      "\n",
      "    for the California housing dataset and::\n",
      "\n",
      "        from sklearn.datasets import fetch_openml\n",
      "        housing = fetch_openml(name=\"house_prices\", as_frame=True)\n",
      "\n",
      "    for the Ames housing dataset.\n",
      "    \n",
      "  warnings.warn(msg, category=FutureWarning)\n"
     ]
    }
   ],
   "source": [
    "boston = datasets.load_boston()\n",
    "num_test = 10\n",
    "X_train = boston.data[:-num_test, :]\n",
    "y_train = boston.target[:-num_test]\n",
    "X_test = boston.data[-num_test:, :]\n",
    "y_test = boston.target[-num_test:]\n",
    "from sklearn.tree import DecisionTreeRegressor\n",
    "regressor = DecisionTreeRegressor(max_depth=10,\n",
    "min_samples_split=3)\n",
    "regressor.fit(X_train, y_train)\n",
    "predictions = regressor.predict(X_test)\n"
   ]
  },
  {
   "cell_type": "code",
   "execution_count": 48,
   "id": "55481bcb",
   "metadata": {},
   "outputs": [
    {
     "name": "stdout",
     "output_type": "stream",
     "text": [
      "[12.7        20.9        20.9        20.2        20.9        28.4\n",
      " 20.73076923 24.3        28.4        20.73076923]\n"
     ]
    }
   ],
   "source": [
    "print(predictions)\n"
   ]
  },
  {
   "cell_type": "code",
   "execution_count": 49,
   "id": "d2044e09",
   "metadata": {},
   "outputs": [
    {
     "name": "stdout",
     "output_type": "stream",
     "text": [
      "[19.7 18.3 21.2 17.5 16.8 22.4 20.6 23.9 22.  11.9]\n"
     ]
    }
   ],
   "source": [
    "print(y_test)\n"
   ]
  },
  {
   "cell_type": "markdown",
   "id": "417d6a2f",
   "metadata": {},
   "source": [
    "# Implementing a regression forest"
   ]
  },
  {
   "cell_type": "code",
   "execution_count": 50,
   "id": "be4784b8",
   "metadata": {},
   "outputs": [
    {
     "name": "stdout",
     "output_type": "stream",
     "text": [
      "[18.85939784 21.06059248 21.57573543 20.1727114  21.23103428 25.34339227\n",
      " 21.76796681 27.49857143 26.99674962 21.15003833]\n"
     ]
    }
   ],
   "source": [
    "from sklearn.ensemble import RandomForestRegressor\n",
    "regressor = RandomForestRegressor(n_estimators=100,\n",
    "max_depth=10, min_samples_split=3)\n",
    "regressor.fit(X_train, y_train)\n",
    "predictions = regressor.predict(X_test)\n",
    "print(predictions)\n"
   ]
  },
  {
   "cell_type": "markdown",
   "id": "2f8757b7",
   "metadata": {},
   "source": [
    "# Implementing SVR"
   ]
  },
  {
   "cell_type": "code",
   "execution_count": 51,
   "id": "f6bd515d",
   "metadata": {},
   "outputs": [
    {
     "name": "stdout",
     "output_type": "stream",
     "text": [
      "[14.59746182 19.31425749 21.16523211 18.52235085 20.19751773 23.75949193\n",
      " 22.64646343 26.99840893 25.76979558 22.67790167]\n"
     ]
    }
   ],
   "source": [
    "from sklearn.svm import SVR\n",
    "regressor = SVR(C=0.1, epsilon=0.02, kernel='linear')\n",
    "regressor.fit(X_train, y_train)\n",
    "predictions = regressor.predict(X_test)\n",
    "print(predictions)\n"
   ]
  },
  {
   "cell_type": "markdown",
   "id": "8e35d4cd",
   "metadata": {},
   "source": [
    "# Predicting stock prices with the three regression algorithms\n"
   ]
  },
  {
   "cell_type": "code",
   "execution_count": 65,
   "id": "4355f49b",
   "metadata": {},
   "outputs": [
    {
     "name": "stdout",
     "output_type": "stream",
     "text": [
      "(6547, 37)\n",
      "(6547,)\n",
      "(251, 37)\n",
      "(251,)\n"
     ]
    }
   ],
   "source": [
    "data_raw = pd.read_csv('19880101_20191231.csv', index_col='Date')\n",
    "data = generate_features(data_raw)\n",
    "data_train = data.loc['1988-01-01':'2018-12-31']\n",
    "data_test = data.loc['2019-01-01':'2019-12-31']\n",
    "X_train = data_train.drop('close', axis=1).values\n",
    "y_train = data_train['close'].values\n",
    "X_test = data_test.drop('close', axis=1).values\n",
    "y_test = data_test['close'].values\n",
    "print(X_train.shape)\n",
    "print(y_train.shape)\n",
    "print(X_test.shape)\n",
    "print(y_test.shape)\n"
   ]
  },
  {
   "cell_type": "code",
   "execution_count": 66,
   "id": "2659bd64",
   "metadata": {},
   "outputs": [],
   "source": [
    "from sklearn.preprocessing import StandardScaler\n",
    "scaler = StandardScaler()\n",
    "X_scaled_train = scaler.fit_transform(X_train)\n",
    "X_scaled_test = scaler.transform(X_test)\n"
   ]
  },
  {
   "cell_type": "code",
   "execution_count": 68,
   "id": "0f79cff5",
   "metadata": {},
   "outputs": [
    {
     "data": {
      "text/plain": [
       "GridSearchCV(cv=5, estimator=SGDRegressor(random_state=42),\n",
       "             param_grid={'alpha': [0.0001, 0.0003, 0.001],\n",
       "                         'eta0': [0.01, 0.03, 0.1]},\n",
       "             scoring='r2')"
      ]
     },
     "execution_count": 68,
     "metadata": {},
     "output_type": "execute_result"
    }
   ],
   "source": [
    "from sklearn.model_selection import GridSearchCV\n",
    "param_grid = {\"alpha\": [1e-4, 3e-4, 1e-3],\"eta0\": [0.01, 0.03, 0.1],}\n",
    "lr = SGDRegressor(penalty='l2', max_iter=1000, random_state=42)\n",
    "grid_search = GridSearchCV(lr, param_grid, cv=5, scoring='r2')\n",
    "grid_search.fit(X_scaled_train, y_train)\n"
   ]
  },
  {
   "cell_type": "code",
   "execution_count": 69,
   "id": "50c2b93f",
   "metadata": {},
   "outputs": [
    {
     "name": "stdout",
     "output_type": "stream",
     "text": [
      "{'alpha': 0.0001, 'eta0': 0.01}\n"
     ]
    }
   ],
   "source": [
    "print(grid_search.best_params_)\n",
    "lr_best = grid_search.best_estimator_\n",
    "predictions_lr = lr_best.predict(X_scaled_test)\n"
   ]
  },
  {
   "cell_type": "code",
   "execution_count": 72,
   "id": "d5708e8a",
   "metadata": {},
   "outputs": [
    {
     "name": "stdout",
     "output_type": "stream",
     "text": [
      "MSE: 43197.110\n",
      "MAE: 156.974\n",
      "R^2: 0.962\n"
     ]
    }
   ],
   "source": [
    "from sklearn.metrics import mean_squared_error,mean_absolute_error, r2_score\n",
    "\n",
    "print(f'MSE: {mean_squared_error(y_test, predictions_lr):.3f}')\n",
    "print(f'MAE: {mean_absolute_error(y_test, predictions_lr):.3f}')\n",
    "print(f'R^2: {r2_score(y_test, predictions_lr):.3f}')\n"
   ]
  },
  {
   "cell_type": "code",
   "execution_count": 73,
   "id": "d70ec5cc",
   "metadata": {},
   "outputs": [
    {
     "data": {
      "text/plain": [
       "GridSearchCV(cv=5, estimator=RandomForestRegressor(n_jobs=-1, random_state=42),\n",
       "             n_jobs=-1,\n",
       "             param_grid={'max_depth': [30, 50], 'min_samples_leaf': [3, 5],\n",
       "                         'min_samples_split': [2, 5, 10]},\n",
       "             scoring='r2')"
      ]
     },
     "execution_count": 73,
     "metadata": {},
     "output_type": "execute_result"
    }
   ],
   "source": [
    "param_grid = {'max_depth': [30, 50],'min_samples_split': [2, 5, 10],'min_samples_leaf': [3, 5]}\n",
    "rf = RandomForestRegressor(n_estimators=100, n_jobs=-1,max_features='auto', random_state=42)\n",
    "grid_search = GridSearchCV(rf, param_grid, cv=5, scoring='r2', n_jobs=-1)\n",
    "grid_search.fit(X_train, y_train)\n"
   ]
  },
  {
   "cell_type": "code",
   "execution_count": 74,
   "id": "952467ed",
   "metadata": {},
   "outputs": [
    {
     "name": "stdout",
     "output_type": "stream",
     "text": [
      "{'max_depth': 30, 'min_samples_leaf': 3, 'min_samples_split': 10}\n"
     ]
    }
   ],
   "source": [
    "print(grid_search.best_params_)\n",
    "rf_best = grid_search.best_estimator_\n",
    "predictions_rf = rf_best.predict(X_test)\n"
   ]
  },
  {
   "cell_type": "code",
   "execution_count": 75,
   "id": "0d60f1b5",
   "metadata": {},
   "outputs": [
    {
     "name": "stdout",
     "output_type": "stream",
     "text": [
      "MSE: 418870.545\n",
      "MAE: 420.219\n",
      "R^2: 0.635\n"
     ]
    }
   ],
   "source": [
    "print(f'MSE: {mean_squared_error(y_test, predictions_rf):.3f}')\n",
    "print(f'MAE: {mean_absolute_error(y_test, predictions_rf):.3f}')\n",
    "print(f'R^2: {r2_score(y_test, predictions_rf):.3f}')\n"
   ]
  },
  {
   "cell_type": "code",
   "execution_count": 78,
   "id": "38eae62c",
   "metadata": {},
   "outputs": [],
   "source": [
    "param_grid = [{'kernel': ['linear'], 'C': [500],'epsilon': [0.0001]}]\n"
   ]
  },
  {
   "cell_type": "code",
   "execution_count": 79,
   "id": "e053ff5f",
   "metadata": {},
   "outputs": [
    {
     "data": {
      "text/plain": [
       "GridSearchCV(cv=5, estimator=SVR(),\n",
       "             param_grid=[{'C': [500], 'epsilon': [0.0001],\n",
       "                          'kernel': ['linear']}],\n",
       "             scoring='r2')"
      ]
     },
     "execution_count": 79,
     "metadata": {},
     "output_type": "execute_result"
    }
   ],
   "source": [
    "svr = SVR()\n",
    "grid_search = GridSearchCV(svr, param_grid, cv=5, scoring='r2')\n",
    "grid_search.fit(X_scaled_train, y_train)\n"
   ]
  },
  {
   "cell_type": "code",
   "execution_count": 80,
   "id": "1400f706",
   "metadata": {},
   "outputs": [
    {
     "name": "stdout",
     "output_type": "stream",
     "text": [
      "{'C': 500, 'epsilon': 0.0001, 'kernel': 'linear'}\n",
      "MSE: 29472.096\n",
      "MAE: 122.525\n",
      "R^2: 0.974\n"
     ]
    }
   ],
   "source": [
    "print(grid_search.best_params_)\n",
    "svr_best = grid_search.best_estimator_\n",
    "predictions_svr = svr_best.predict(X_scaled_test)\n",
    "print(f'MSE: {mean_squared_error(y_test, predictions_svr):.3f}')\n",
    "print(f'MAE: {mean_absolute_error(y_test, predictions_svr):.3f}')\n",
    "print(f'R^2: {r2_score(y_test, predictions_svr):.3f}')\n"
   ]
  },
  {
   "cell_type": "code",
   "execution_count": 81,
   "id": "607b67ff",
   "metadata": {},
   "outputs": [
    {
     "data": {
      "image/png": "[encoded data removed]",
      "text/plain": [
       "<Figure size 432x288 with 1 Axes>"
      ]
     },
     "metadata": {
      "needs_background": "light"
     },
     "output_type": "display_data"
    }
   ],
   "source": [
    "import matplotlib.pyplot as plt\n",
    "plt.plot(data_test.index, y_test, c='k')\n",
    "plt.plot(data_test.index, predictions_lr, c='b')\n",
    "plt.plot(data_test.index, predictions_rf, c='r')\n",
    "plt.plot(data_test.index, predictions_svr, c='g')\n",
    "plt.xticks(range(0, 252, 10), rotation=60)\n",
    "plt.xlabel('Date')\n",
    "plt.ylabel('Close price')\n",
    "plt.legend(['Truth', 'Linear regression', 'Random Forest', 'SVR'])\n",
    "plt.show()\n"
   ]
  },
  {
   "cell_type": "code",
   "execution_count": null,
   "id": "ef61515e",
   "metadata": {},
   "outputs": [],
   "source": []
  }
 ],
 "metadata": {
  "kernelspec": {
   "display_name": "Python 3 (ipykernel)",
   "language": "python",
   "name": "python3"
  },
  "language_info": {
   "codemirror_mode": {
    "name": "ipython",
    "version": 3
   },
   "file_extension": ".py",
   "mimetype": "text/x-python",
   "name": "python",
   "nbconvert_exporter": "python",
   "pygments_lexer": "ipython3",
   "version": "3.8.8"
  }
 },
 "nbformat": 4,
 "nbformat_minor": 5
}
